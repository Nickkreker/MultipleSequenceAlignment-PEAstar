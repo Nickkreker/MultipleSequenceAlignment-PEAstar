{
 "cells": [
  {
   "cell_type": "code",
   "execution_count": 1,
   "metadata": {},
   "outputs": [],
   "source": [
    "import copy\n",
    "import math\n",
    "import matplotlib.pyplot as plt\n",
    "import numpy as np\n",
    "from random import shuffle\n",
    "from heapq import heappop, heappush, heapify\n",
    "from random import randint\n",
    "import time\n",
    "from sys import float_info\n",
    "EPS = float_info.epsilon\n",
    "%matplotlib notebook\n",
    "%load_ext autoreload\n",
    "%autoreload 2"
   ]
  },
  {
   "cell_type": "markdown",
   "metadata": {},
   "source": [
    "### Search Node Representation"
   ]
  },
  {
   "cell_type": "code",
   "execution_count": 2,
   "metadata": {},
   "outputs": [],
   "source": [
    "class Node:\n",
    "    def __init__(self, coords, g = 0, h = 0, F = None, parent = None, f=None):\n",
    "        self.coords = coords # tuple of coords\n",
    "        self.g = g\n",
    "        self.h = h\n",
    "        if F is None:\n",
    "            self.F = self.g + h\n",
    "        else:\n",
    "            self.F = F \n",
    "        if f is None:\n",
    "            self.f = self.g + h\n",
    "        else:\n",
    "            self.f = f\n",
    "        self.parent = parent\n",
    "        self.k = 0\n",
    "    \n",
    "    \n",
    "    def __eq__(self, other):\n",
    "        return self.coords == other.coords\n",
    "    \n",
    "    def __lt__(self, other):\n",
    "        return self.F < other.F or ((self.F == other.F) and (self.h < other.h)) \\\n",
    "               or ((self.F == other.F) and (self.h == other.h) and (self.k > other.k))\n",
    "    \n",
    "    def __hash__(self): \n",
    "        return hash(self.coords)"
   ]
  },
  {
   "cell_type": "code",
   "execution_count": 3,
   "metadata": {},
   "outputs": [],
   "source": [
    "import heapq\n",
    "import itertools\n",
    "\n",
    "REMOVED = Node((-1,-1), -1)\n",
    "\n",
    "class Open:\n",
    "    def __init__(self):\n",
    "        self.elements = []\n",
    "        self.count = itertools.count()\n",
    "        self.entry_finder = {}\n",
    "        self.node_finder = {}\n",
    "    \n",
    "    def __iter__(self):\n",
    "        for entry in self.elements:\n",
    "            if entry[2] is not REMOVED:\n",
    "                  yield entry[2]\n",
    "                    \n",
    "    def __len__(self):\n",
    "        return len(self.elements)\n",
    "\n",
    "    def isEmpty(self):\n",
    "        return (len(self.elements) == 0)               \n",
    "    \n",
    "    def AddNode(self, node : Node, *args):\n",
    "        if (node.coords, node.g) in self.entry_finder:\n",
    "            if self.entry_finder[(node.coords, node.g)][2].F < node.F:\n",
    "                return\n",
    "            t = self.entry_finder.pop((node.coords, node.g))\n",
    "            t[2] = REMOVED\n",
    "        entry = [node.F, next(self.count), node]\n",
    "        self.entry_finder[(node.coords, node.g)] = entry\n",
    "        self.node_finder[node.coords] = node.g\n",
    "        heapq.heappush(self.elements, entry)\n",
    "\n",
    "    def GetBestNode(self, *args):\n",
    "        while self.elements:\n",
    "            entry = heapq.heappop(self.elements)\n",
    "            if entry[2] is not REMOVED:\n",
    "                del self.entry_finder[(entry[2].coords, entry[2].g)]\n",
    "                if entry[2].coords in self.node_finder:\n",
    "                    del self.node_finder[entry[2].coords]\n",
    "                return entry[2]\n",
    "            \n",
    "    def InOpen(self, item: Node):\n",
    "        return (item.coords in self.node_finder)\n",
    "    \n",
    "    def GetGValue(self, item: Node):\n",
    "        return self.node_finder[item.coords]"
   ]
  },
  {
   "cell_type": "code",
   "execution_count": 4,
   "metadata": {},
   "outputs": [],
   "source": [
    "class OpenList:\n",
    "    def __init__(self):\n",
    "        self.elements = []\n",
    "        self.node_finder = set()\n",
    "    \n",
    "\n",
    "    def __iter__(self):\n",
    "        return iter(self.elements)\n",
    "\n",
    "\n",
    "    def __len__(self):\n",
    "        return len(self.elements)\n",
    "\n",
    "\n",
    "    def isEmpty(self):\n",
    "        if len(self.elements) != 0:\n",
    "            return False\n",
    "        return True\n",
    "    \n",
    "\n",
    "    def GetBestNode(self, *args):\n",
    "        bestF = math.inf\n",
    "        bestCoord = 0\n",
    "        for i in range(len(self.elements)):\n",
    "            if self.elements[i].F < bestF:\n",
    "                bestCoord = i\n",
    "                bestF = self.elements[i].F\n",
    "                \n",
    "        best = self.elements.pop(bestCoord)\n",
    "        self.node_finder.remove(best.coords)\n",
    "        return best\n",
    "    \n",
    "\n",
    "    def AddNode(self, node : Node, *args):\n",
    "        for existingNode in self.elements:\n",
    "            if existingNode.coords == node.coords:\n",
    "                if existingNode.F > node.F:\n",
    "                    existingNode.g = node.g\n",
    "                    existingNode.F = node.F\n",
    "                    existingNode.parent = node.parent\n",
    "                    return\n",
    "                else:\n",
    "                    return\n",
    "        self.elements.append(node)\n",
    "        self.node_finder.add(node.coords)\n",
    "        return\n",
    "    \n",
    "    def InOpen(self, item: Node):\n",
    "        return (item.coords in self.node_finder)"
   ]
  },
  {
   "cell_type": "code",
   "execution_count": 5,
   "metadata": {},
   "outputs": [],
   "source": [
    "class Closed:\n",
    "    def __init__(self):\n",
    "        self.elements = {}\n",
    "\n",
    "    def __iter__(self):\n",
    "        return iter(self.elements)\n",
    "    \n",
    "    def __len__(self):\n",
    "        return len(self.elements)\n",
    "\n",
    "    def AddNode(self, item : Node):\n",
    "        self.elements[item] = item.g\n",
    "\n",
    "    def WasExpanded(self, item : Node):\n",
    "        return (item in self.elements)\n",
    "    \n",
    "    def DeleteNode(self, item: Node):\n",
    "        del self.elements[item]"
   ]
  },
  {
   "cell_type": "code",
   "execution_count": 6,
   "metadata": {},
   "outputs": [],
   "source": [
    "import utils\n",
    "\n",
    "pam250 = utils.load_pam250_matrix()"
   ]
  },
  {
   "cell_type": "markdown",
   "metadata": {},
   "source": [
    "# Heuristic function"
   ]
  },
  {
   "cell_type": "code",
   "execution_count": 7,
   "metadata": {},
   "outputs": [],
   "source": [
    "def hfunc(coords, distances2d):\n",
    "    h = 0\n",
    "    for i, coord1 in enumerate(coords):\n",
    "        for j, coord2 in enumerate(coords):\n",
    "            if i <= j:\n",
    "                continue\n",
    "            h += distances2d[(i, j)][-coord1 - 1, -coord2 - 1]\n",
    "    return h          "
   ]
  },
  {
   "cell_type": "code",
   "execution_count": 8,
   "metadata": {},
   "outputs": [],
   "source": [
    "def get_neighbors(coords, seqs):\n",
    "    num_coords = len(coords)\n",
    "    t = np.arange(1, 2 ** num_coords, dtype=np.uint8)\n",
    "    t = np.unpackbits(t).reshape(-1, 8)\n",
    "    max_coords = list(map(len, seqs))\n",
    "    t = coords + t[:, -num_coords:]\n",
    "    return t[np.all(t <= max_coords, axis=1)]"
   ]
  },
  {
   "cell_type": "code",
   "execution_count": 9,
   "metadata": {},
   "outputs": [],
   "source": [
    "def compute_cost(coords1, coords2, seqs, pam250):\n",
    "    d = 0\n",
    "    for i, _ in enumerate(coords2):\n",
    "        for j, _ in enumerate(coords2):\n",
    "            if i <= j:\n",
    "                continue\n",
    "            if coords1[i] == coords2[i] and coords1[j] == coords2[j]:\n",
    "                continue\n",
    "            if coords1[i] == coords2[i] or coords1[j] == coords2[j]:\n",
    "                d += 8\n",
    "            else:\n",
    "                d += pam250[seqs[i][coords1[i]], seqs[j][coords1[j]]]\n",
    "    return d"
   ]
  },
  {
   "cell_type": "code",
   "execution_count": 10,
   "metadata": {},
   "outputs": [],
   "source": [
    "def astar(seqs):\n",
    "    OPEN = Open()\n",
    "    CLOSED = Closed()\n",
    "    distances2d = utils.get_distances2d(seqs, pam250)\n",
    "    \n",
    "    num_seqs = len(seqs)\n",
    "    start_coords = tuple(0 for i in range(num_seqs))\n",
    "    end_coords = tuple(len(seq) for seq in seqs)\n",
    "    \n",
    "    start_node = Node(start_coords, 0, hfunc(start_coords, distances2d))\n",
    "    end_node = Node(end_coords)\n",
    "    OPEN.AddNode(start_node)\n",
    "    max_n = 0\n",
    "    \n",
    "    while not OPEN.isEmpty():\n",
    "        s = OPEN.GetBestNode(CLOSED)\n",
    "        CLOSED.AddNode(s)\n",
    "        if s == end_node:\n",
    "            cum_n = len(CLOSED)\n",
    "            return (True, s, CLOSED, OPEN, max_n, cum_n)\n",
    "        neighbors = get_neighbors(s.coords, seqs)\n",
    "        for neighbor in neighbors:\n",
    "            neighbor = tuple(neighbor)\n",
    "            if not CLOSED.WasExpanded(Node(neighbor)):\n",
    "                node = Node(neighbor, s.g + compute_cost(s.coords, neighbor, seqs, pam250),\n",
    "                            hfunc(neighbor, distances2d))\n",
    "                node.parent = s\n",
    "                OPEN.AddNode(node)\n",
    "        max_n = max(max_n, len(CLOSED) + len(OPEN.node_finder))\n",
    "    return False, None, CLOSED, OPEN"
   ]
  },
  {
   "cell_type": "code",
   "execution_count": 11,
   "metadata": {},
   "outputs": [],
   "source": [
    "def peastar(seqs, cutoff):\n",
    "    OPEN = Open()\n",
    "    CLOSED = Closed()\n",
    "    distances2d = utils.get_distances2d(seqs, pam250)\n",
    "    \n",
    "    cumulative_nodes = 0\n",
    "    maximum_nodes = 0\n",
    "    \n",
    "    num_seqs = len(seqs)\n",
    "    start_coords = tuple(0 for i in range(num_seqs))\n",
    "    end_coords = tuple(len(seq) for seq in seqs)\n",
    "    \n",
    "    start_node = Node(start_coords, 0, hfunc(start_coords, distances2d))\n",
    "    end_node = Node(end_coords)\n",
    "    OPEN.AddNode(start_node)\n",
    "    \n",
    "    g_values = dict()\n",
    "    g_values[start_coords] = 0\n",
    "    \n",
    "    while not OPEN.isEmpty():\n",
    "        s = OPEN.GetBestNode()\n",
    "        \n",
    "        if s == end_node:\n",
    "            return (True, s, CLOSED, OPEN, maximum_nodes, cumulative_nodes)\n",
    "        neighbors = get_neighbors(s.coords, seqs)\n",
    "        min_f_n = None\n",
    "        cumulative_nodes += 1\n",
    "        for neighbor in neighbors:\n",
    "            neighbor = tuple(neighbor)\n",
    "            n = Node(neighbor)\n",
    "            \n",
    "            g_n = math.inf\n",
    "            if neighbor in g_values:\n",
    "                g_n = min(g_values[neighbor], s.g + compute_cost(s.coords, neighbor, seqs, pam250))\n",
    "            else:\n",
    "                g_n = s.g + compute_cost(s.coords, neighbor, seqs, pam250)\n",
    "                g_values[neighbor] = math.inf\n",
    "            h_n = hfunc(neighbor, distances2d)\n",
    "            f_n = g_n + h_n\n",
    "            if f_n <= s.F + cutoff:\n",
    "                if (CLOSED.WasExpanded(n) and \n",
    "                    s.g + compute_cost(s.coords, neighbor, seqs, pam250) < g_values[neighbor]):\n",
    "                    g_n = s.g + compute_cost(s.coords, neighbor, seqs, pam250)\n",
    "                    n = Node(neighbor, g_n, h_n)\n",
    "                    n.parent = s\n",
    "                    CLOSED.DeleteNode(n)\n",
    "                    OPEN.AddNode(n)\n",
    "                    \n",
    "                    g_values[neighbor] = g_n\n",
    "                elif (OPEN.InOpen(n) and\n",
    "                    s.g + compute_cost(s.coords, neighbor, seqs, pam250) < g_values[neighbor]):\n",
    "                    g_n = s.g + compute_cost(s.coords, neighbor, seqs, pam250)\n",
    "                    n = Node(neighbor, g_n, h_n)\n",
    "                    n.parent = s\n",
    "                    OPEN.AddNode(n)\n",
    "                    \n",
    "                    g_values[neighbor] = g_n\n",
    "                elif (not OPEN.InOpen(n)) and (not CLOSED.WasExpanded(n)):\n",
    "                    g_n = s.g + compute_cost(s.coords, neighbor, seqs, pam250)\n",
    "                    n = Node(neighbor, g_n, h_n)\n",
    "                    n.parent = s\n",
    "                    OPEN.AddNode(n)\n",
    "                    \n",
    "                    if neighbor in g_values:\n",
    "                        g_values[neighbor] = min(g_n, g_values[neighbor])\n",
    "                    else:\n",
    "                        g_values[neighbor] = g_n\n",
    "            else:\n",
    "                if min_f_n is None:\n",
    "                    min_f_n = f_n\n",
    "                else:\n",
    "                    min_f_n = min(f_n, min_f_n)\n",
    "            \n",
    "        if min_f_n is None:\n",
    "            CLOSED.AddNode(s)\n",
    "        else:\n",
    "            s.F = min_f_n\n",
    "            OPEN.AddNode(s) \n",
    "        maximum_nodes = max(maximum_nodes, len(CLOSED) + len(OPEN.node_finder))"
   ]
  },
  {
   "cell_type": "markdown",
   "metadata": {},
   "source": [
    "# Tests"
   ]
  },
  {
   "cell_type": "code",
   "execution_count": 12,
   "metadata": {},
   "outputs": [],
   "source": [
    "def alignment_astar(seqs):\n",
    "    _, s, _, _, max_n, cum_n = astar(seqs)\n",
    "    print(f'Stored Nodes = {max_n}, Cumulative Expansion = {cum_n}')\n",
    "    return utils.make_alignment(s, seqs)\n",
    "def alignment_peastar(seqs, c=3):\n",
    "    _, s, _, _, max_n, cum_n = peastar(seqs, c)\n",
    "    print(f'Stored Nodes = {max_n}, Cumulative Expansion = {cum_n}')\n",
    "    return utils.make_alignment(s, seqs)"
   ]
  },
  {
   "cell_type": "code",
   "execution_count": 13,
   "metadata": {},
   "outputs": [
    {
     "name": "stdout",
     "output_type": "stream",
     "text": [
      "Stored Nodes = 7, Cumulative Expansion = 3\n",
      "Stored Nodes = 9, Cumulative Expansion = 4\n"
     ]
    }
   ],
   "source": [
    "seqs = ['AA', 'AA']\n",
    "assert(np.all(alignment_astar(seqs) == utils.get_alignment(seqs[0], seqs[1], pam250)))\n",
    "seqs = ['CGT', 'CT']\n",
    "assert(np.all(alignment_astar(seqs) == utils.get_alignment(seqs[0], seqs[1], pam250)))"
   ]
  },
  {
   "cell_type": "code",
   "execution_count": 14,
   "metadata": {},
   "outputs": [],
   "source": [
    "seqs = ['ATAT', 'TA', 'CTA', 'RTV', 'TV', 'ATCT']"
   ]
  },
  {
   "cell_type": "code",
   "execution_count": 15,
   "metadata": {},
   "outputs": [
    {
     "name": "stdout",
     "output_type": "stream",
     "text": [
      "[['A' 'T' 'A' 'T']\n",
      " ['_' 'T' '_' 'A']\n",
      " ['C' 'T' '_' 'A']\n",
      " ['R' 'T' '_' 'V']\n",
      " ['_' 'T' '_' 'V']\n",
      " ['A' 'T' 'C' 'T']]\n",
      "248 5\n"
     ]
    }
   ],
   "source": [
    "_, s, c, o, _, _ = astar(seqs)\n",
    "print(utils.make_alignment(s, seqs))\n",
    "print(len(o), len(c))"
   ]
  },
  {
   "cell_type": "code",
   "execution_count": 16,
   "metadata": {
    "scrolled": true
   },
   "outputs": [
    {
     "name": "stdout",
     "output_type": "stream",
     "text": [
      "[['A' 'T' 'A' 'T']\n",
      " ['_' 'T' '_' 'A']\n",
      " ['C' 'T' '_' 'A']\n",
      " ['R' 'T' '_' 'V']\n",
      " ['_' 'T' '_' 'V']\n",
      " ['A' 'T' 'C' 'T']]\n",
      "4 0\n"
     ]
    }
   ],
   "source": [
    "_, s, c, o, _, _ = peastar(seqs, 0)\n",
    "print(utils.make_alignment(s, seqs))\n",
    "print(len(o), len(c))"
   ]
  },
  {
   "cell_type": "markdown",
   "metadata": {},
   "source": [
    "# Tests with real data"
   ]
  },
  {
   "cell_type": "code",
   "execution_count": 17,
   "metadata": {},
   "outputs": [],
   "source": [
    "import os\n",
    "\n",
    "def load_seqs(path):\n",
    "    species = []\n",
    "    seqs = []\n",
    "    for file in os.listdir(path):\n",
    "        with open(f'{path}/{file}', 'r') as f:\n",
    "            species.append(file[:-4]) \n",
    "            seqs.append(f.read().replace('\\n', ''))\n",
    "    return species, seqs\n",
    "\n",
    "species, seqs = load_seqs('data')"
   ]
  },
  {
   "cell_type": "code",
   "execution_count": 18,
   "metadata": {},
   "outputs": [
    {
     "name": "stdout",
     "output_type": "stream",
     "text": [
      "Stored Nodes = 3566, Cumulative Expansion = 627\n",
      "Wall time: 4.73 s\n"
     ]
    },
    {
     "data": {
      "text/plain": [
       "-3463"
      ]
     },
     "execution_count": 18,
     "metadata": {},
     "output_type": "execute_result"
    }
   ],
   "source": [
    "%%time\n",
    "utils.calc_alignment_score(alignment_astar(seqs[6:9]), pam250)"
   ]
  },
  {
   "cell_type": "code",
   "execution_count": 19,
   "metadata": {},
   "outputs": [
    {
     "name": "stdout",
     "output_type": "stream",
     "text": [
      "Stored Nodes = 655, Cumulative Expansion = 699\n",
      "Wall time: 4.52 s\n"
     ]
    },
    {
     "data": {
      "text/plain": [
       "-3463"
      ]
     },
     "execution_count": 19,
     "metadata": {},
     "output_type": "execute_result"
    }
   ],
   "source": [
    "%%time\n",
    "utils.calc_alignment_score(alignment_peastar(seqs[6:9], 5), pam250)"
   ]
  },
  {
   "cell_type": "markdown",
   "metadata": {},
   "source": [
    "# Alignment of 7 sequences"
   ]
  },
  {
   "cell_type": "markdown",
   "metadata": {},
   "source": [
    "Test 1"
   ]
  },
  {
   "cell_type": "code",
   "execution_count": 20,
   "metadata": {},
   "outputs": [
    {
     "name": "stdout",
     "output_type": "stream",
     "text": [
      "Stored Nodes = 7502, Cumulative Expansion = 13533\n",
      "Stored Nodes = 8280, Cumulative Expansion = 10854\n",
      "Stored Nodes = 15937, Cumulative Expansion = 9866\n",
      "Stored Nodes = 305929, Cumulative Expansion = 7502\n",
      "Wall time: 6min 44s\n"
     ]
    },
    {
     "data": {
      "text/plain": [
       "-34581"
      ]
     },
     "execution_count": 20,
     "metadata": {},
     "output_type": "execute_result"
    }
   ],
   "source": [
    "%%time\n",
    "utils.calc_alignment_score(alignment_peastar(seqs[:7], 0), pam250)\n",
    "utils.calc_alignment_score(alignment_peastar(seqs[:7], 10), pam250)\n",
    "utils.calc_alignment_score(alignment_peastar(seqs[:7], 50), pam250)\n",
    "utils.calc_alignment_score(alignment_astar(seqs[:7]), pam250)"
   ]
  },
  {
   "cell_type": "markdown",
   "metadata": {},
   "source": [
    "Test 2"
   ]
  },
  {
   "cell_type": "code",
   "execution_count": 21,
   "metadata": {},
   "outputs": [
    {
     "name": "stdout",
     "output_type": "stream",
     "text": [
      "Stored Nodes = 8832, Cumulative Expansion = 16115\n",
      "Stored Nodes = 9695, Cumulative Expansion = 13128\n",
      "Stored Nodes = 19333, Cumulative Expansion = 11033\n",
      "Stored Nodes = 363769, Cumulative Expansion = 8832\n",
      "Wall time: 7min 39s\n"
     ]
    },
    {
     "data": {
      "text/plain": [
       "-33581"
      ]
     },
     "execution_count": 21,
     "metadata": {},
     "output_type": "execute_result"
    }
   ],
   "source": [
    "%%time\n",
    "utils.calc_alignment_score(alignment_peastar(seqs[1:8], 0), pam250)\n",
    "utils.calc_alignment_score(alignment_peastar(seqs[1:8], 10), pam250)\n",
    "utils.calc_alignment_score(alignment_peastar(seqs[1:8], 50), pam250)\n",
    "utils.calc_alignment_score(alignment_astar(seqs[1:8]), pam250)"
   ]
  },
  {
   "cell_type": "markdown",
   "metadata": {},
   "source": [
    "Test 3"
   ]
  },
  {
   "cell_type": "code",
   "execution_count": 22,
   "metadata": {},
   "outputs": [],
   "source": [
    "indices = np.arange(len(seqs))\n",
    "shuffle(indices)\n",
    "indices = indices[:7]"
   ]
  },
  {
   "cell_type": "code",
   "execution_count": 23,
   "metadata": {},
   "outputs": [
    {
     "data": {
      "text/plain": [
       "array([19, 13, 14,  0, 17, 12, 15])"
      ]
     },
     "execution_count": 23,
     "metadata": {},
     "output_type": "execute_result"
    }
   ],
   "source": [
    "indices"
   ]
  },
  {
   "cell_type": "code",
   "execution_count": 24,
   "metadata": {},
   "outputs": [],
   "source": [
    "seqs = np.array(seqs)"
   ]
  },
  {
   "cell_type": "code",
   "execution_count": 25,
   "metadata": {},
   "outputs": [
    {
     "name": "stdout",
     "output_type": "stream",
     "text": [
      "Stored Nodes = 60678, Cumulative Expansion = 134837\n",
      "Stored Nodes = 66062, Cumulative Expansion = 111608\n",
      "Stored Nodes = 124324, Cumulative Expansion = 88005\n",
      "Stored Nodes = 1209639, Cumulative Expansion = 60678\n",
      "Wall time: 2h 5min 47s\n"
     ]
    },
    {
     "data": {
      "text/plain": [
       "-27065"
      ]
     },
     "execution_count": 25,
     "metadata": {},
     "output_type": "execute_result"
    }
   ],
   "source": [
    "%%time\n",
    "utils.calc_alignment_score(alignment_peastar(seqs[indices], 0), pam250)\n",
    "utils.calc_alignment_score(alignment_peastar(seqs[indices], 10), pam250)\n",
    "utils.calc_alignment_score(alignment_peastar(seqs[indices], 50), pam250)\n",
    "utils.calc_alignment_score(alignment_astar(seqs[indices]), pam250)"
   ]
  },
  {
   "cell_type": "markdown",
   "metadata": {},
   "source": [
    "Test 4"
   ]
  },
  {
   "cell_type": "code",
   "execution_count": 26,
   "metadata": {},
   "outputs": [],
   "source": [
    "indices = np.arange(len(seqs))\n",
    "shuffle(indices)\n",
    "indices = indices[:7]"
   ]
  },
  {
   "cell_type": "code",
   "execution_count": 27,
   "metadata": {},
   "outputs": [
    {
     "data": {
      "text/plain": [
       "array([ 8, 12,  3,  5, 17,  9,  2])"
      ]
     },
     "execution_count": 27,
     "metadata": {},
     "output_type": "execute_result"
    }
   ],
   "source": [
    "indices"
   ]
  },
  {
   "cell_type": "code",
   "execution_count": 28,
   "metadata": {},
   "outputs": [
    {
     "name": "stdout",
     "output_type": "stream",
     "text": [
      "Stored Nodes = 11639, Cumulative Expansion = 21270\n",
      "Stored Nodes = 12691, Cumulative Expansion = 17901\n",
      "Stored Nodes = 24469, Cumulative Expansion = 15563\n",
      "Stored Nodes = 437336, Cumulative Expansion = 11638\n",
      "Wall time: 12min 17s\n"
     ]
    },
    {
     "data": {
      "text/plain": [
       "-29118"
      ]
     },
     "execution_count": 28,
     "metadata": {},
     "output_type": "execute_result"
    }
   ],
   "source": [
    "%%time\n",
    "utils.calc_alignment_score(alignment_peastar(seqs[indices], 0), pam250)\n",
    "utils.calc_alignment_score(alignment_peastar(seqs[indices], 10), pam250)\n",
    "utils.calc_alignment_score(alignment_peastar(seqs[indices], 50), pam250)\n",
    "utils.calc_alignment_score(alignment_astar(seqs[indices]), pam250)"
   ]
  },
  {
   "cell_type": "markdown",
   "metadata": {},
   "source": [
    "Test 5"
   ]
  },
  {
   "cell_type": "code",
   "execution_count": 29,
   "metadata": {},
   "outputs": [],
   "source": [
    "indices = np.arange(len(seqs))\n",
    "shuffle(indices)\n",
    "indices = indices[:7]"
   ]
  },
  {
   "cell_type": "code",
   "execution_count": 30,
   "metadata": {},
   "outputs": [
    {
     "data": {
      "text/plain": [
       "array([ 7,  2, 13,  0,  3, 17,  5])"
      ]
     },
     "execution_count": 30,
     "metadata": {},
     "output_type": "execute_result"
    }
   ],
   "source": [
    "indices"
   ]
  },
  {
   "cell_type": "code",
   "execution_count": 31,
   "metadata": {},
   "outputs": [
    {
     "name": "stdout",
     "output_type": "stream",
     "text": [
      "Stored Nodes = 41864, Cumulative Expansion = 95638\n",
      "Stored Nodes = 46361, Cumulative Expansion = 77945\n",
      "Stored Nodes = 88605, Cumulative Expansion = 69407\n",
      "Stored Nodes = 786307, Cumulative Expansion = 41864\n",
      "Wall time: 1h 7min 8s\n"
     ]
    },
    {
     "data": {
      "text/plain": [
       "-31485"
      ]
     },
     "execution_count": 31,
     "metadata": {},
     "output_type": "execute_result"
    }
   ],
   "source": [
    "%%time\n",
    "utils.calc_alignment_score(alignment_peastar(seqs[indices], 0), pam250)\n",
    "utils.calc_alignment_score(alignment_peastar(seqs[indices], 10), pam250)\n",
    "utils.calc_alignment_score(alignment_peastar(seqs[indices], 50), pam250)\n",
    "utils.calc_alignment_score(alignment_astar(seqs[indices]), pam250)"
   ]
  }
 ],
 "metadata": {
  "kernelspec": {
   "display_name": "Python 3",
   "language": "python",
   "name": "python3"
  },
  "language_info": {
   "codemirror_mode": {
    "name": "ipython",
    "version": 3
   },
   "file_extension": ".py",
   "mimetype": "text/x-python",
   "name": "python",
   "nbconvert_exporter": "python",
   "pygments_lexer": "ipython3",
   "version": "3.7.3"
  }
 },
 "nbformat": 4,
 "nbformat_minor": 2
}
